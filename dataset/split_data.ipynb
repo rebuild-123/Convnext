{
 "cells": [
  {
   "cell_type": "code",
   "execution_count": 1,
   "id": "9b3f5aa3",
   "metadata": {},
   "outputs": [],
   "source": [
    "import os\n",
    "import random\n",
    "import shutil\n",
    "from glob import glob\n",
    "from tqdm import tqdm\n",
    "import multiprocessing as mp\n",
    "from functools import partial"
   ]
  },
  {
   "cell_type": "code",
   "execution_count": 2,
   "id": "05cf6879",
   "metadata": {},
   "outputs": [],
   "source": [
    "CPU_NUM = 25"
   ]
  },
  {
   "cell_type": "code",
   "execution_count": 3,
   "id": "6797055b",
   "metadata": {},
   "outputs": [],
   "source": [
    "img_pwd = '/workdir/security/home/junjiehuang2468/contests/aidea/ICME2022_Training_Dataset/images/'\n",
    "label_pwd = '/workdir/security/home/junjiehuang2468/contests/aidea/ICME2022_Training_Dataset/labels/class_labels/'"
   ]
  },
  {
   "cell_type": "code",
   "execution_count": 4,
   "id": "3663fc4a",
   "metadata": {},
   "outputs": [],
   "source": [
    "train_pwd = '/workdir/security/home/junjiehuang2468/contests/aidea/ICME2022_Training_Dataset/train/'\n",
    "validation_pwd = '/workdir/security/home/junjiehuang2468/contests/aidea/ICME2022_Training_Dataset/validation/'"
   ]
  },
  {
   "cell_type": "code",
   "execution_count": 5,
   "id": "7f3bd564",
   "metadata": {},
   "outputs": [],
   "source": [
    "names = list(map(lambda x:x[:-4],os.listdir(img_pwd)))\n",
    "random.shuffle(names)\n",
    "train = names[:8*len(names)//10]\n",
    "validation = names[8*len(names)//10:]"
   ]
  },
  {
   "cell_type": "code",
   "execution_count": 6,
   "id": "6bea0f6e",
   "metadata": {},
   "outputs": [],
   "source": [
    "def mp_func(names,img_pwd,label_pwd,copy_to_pwd):\n",
    "    for name in tqdm(names):\n",
    "        imgs_from = glob(img_pwd + name + '*')\n",
    "        labels_from = glob(label_pwd + name + '*')\n",
    "        for img_from,label_from in zip(imgs_from,labels_from):\n",
    "            img_to = copy_to_pwd + 'images/' + img_from[img_from.rfind('/')+1:]\n",
    "            label_to = copy_to_pwd + 'labels/' + label_from[label_from.rfind('/')+1:]\n",
    "            shutil.copyfile(img_from,img_to)\n",
    "            shutil.copyfile(label_from,label_to)"
   ]
  },
  {
   "cell_type": "code",
   "execution_count": 7,
   "id": "0dbfd1fb",
   "metadata": {},
   "outputs": [
    {
     "name": "stderr",
     "output_type": "stream",
     "text": [
      " 99%|█████████▉| 1124/1136 [03:40<00:02,  5.12it/s]\n",
      "0it [00:00, ?it/s]\n",
      " 99%|█████████▉| 1128/1136 [03:41<00:01,  5.83it/s]\n",
      "100%|██████████| 1136/1136 [03:41<00:00,  5.14it/s]\n",
      "100%|██████████| 1136/1136 [03:41<00:00,  5.14it/s]\n",
      "100%|██████████| 1136/1136 [03:41<00:00,  5.14it/s]\n",
      "100%|██████████| 1136/1136 [03:41<00:00,  5.13it/s]\n",
      "100%|██████████| 1136/1136 [03:41<00:00,  5.13it/s]\n",
      "100%|██████████| 1136/1136 [03:41<00:00,  5.13it/s]\n",
      "100%|██████████| 1136/1136 [03:41<00:00,  5.13it/s]\n",
      "100%|██████████| 1136/1136 [03:41<00:00,  5.13it/s]\n",
      "100%|██████████| 1136/1136 [03:41<00:00,  5.13it/s]\n",
      "100%|██████████| 1136/1136 [03:41<00:00,  5.12it/s]\n",
      "100%|██████████| 1136/1136 [03:41<00:00,  5.12it/s]\n",
      "100%|██████████| 1136/1136 [03:41<00:00,  5.12it/s]\n",
      "100%|██████████| 1136/1136 [03:41<00:00,  5.12it/s]\n",
      "100%|██████████| 1136/1136 [03:41<00:00,  5.12it/s]\n",
      "100%|██████████| 1136/1136 [03:41<00:00,  5.12it/s]\n",
      "100%|██████████| 1136/1136 [03:41<00:00,  5.12it/s]\n",
      "100%|██████████| 1136/1136 [03:42<00:00,  5.12it/s]\n",
      "100%|██████████| 1136/1136 [03:42<00:00,  5.11it/s]\n",
      "100%|█████████▉| 1131/1136 [03:42<00:00,  7.57it/s]\n",
      "100%|██████████| 1136/1136 [03:42<00:00,  5.11it/s]\n",
      "100%|██████████| 1136/1136 [03:42<00:00,  5.10it/s]\n",
      "100%|██████████| 1136/1136 [03:42<00:00,  5.10it/s]\n",
      "100%|██████████| 1136/1136 [03:42<00:00,  5.10it/s]\n"
     ]
    }
   ],
   "source": [
    "pwd = train_pwd\n",
    "names = train\n",
    "\n",
    "num = len(names)//CPU_NUM\n",
    "data = [names[i*num:(i+1)*num] for i in range(CPU_NUM+1)]\n",
    "partial_mp_func = partial(mp_func,img_pwd=img_pwd,label_pwd=label_pwd,copy_to_pwd=pwd)\n",
    "with mp.Pool(processes=CPU_NUM) as pool:\n",
    "    pool.map(partial_mp_func,data)"
   ]
  },
  {
   "cell_type": "code",
   "execution_count": 8,
   "id": "7e37a9a8",
   "metadata": {
    "scrolled": false
   },
   "outputs": [
    {
     "name": "stderr",
     "output_type": "stream",
     "text": [
      "100%|██████████| 284/284 [00:54<00:00,  5.22it/s]\n",
      "0it [00:00, ?it/s]77/284 [00:54<00:01,  5.41it/s]\n",
      "100%|██████████| 284/284 [00:54<00:00,  5.21it/s]\n",
      "100%|██████████| 284/284 [00:54<00:00,  5.17it/s]\n",
      "100%|██████████| 284/284 [00:54<00:00,  5.17it/s]\n",
      "100%|██████████| 284/284 [00:55<00:00,  5.16it/s]\n",
      "100%|██████████| 284/284 [00:55<00:00,  5.16it/s]\n",
      "100%|██████████| 284/284 [00:55<00:00,  5.15it/s]\n",
      "100%|██████████| 284/284 [00:55<00:00,  5.14it/s]\n",
      "100%|██████████| 284/284 [00:55<00:00,  5.14it/s]\n",
      "100%|██████████| 284/284 [00:55<00:00,  5.14it/s]\n",
      "100%|██████████| 284/284 [00:55<00:00,  5.13it/s]\n",
      "100%|██████████| 284/284 [00:55<00:00,  5.13it/s]\n",
      "100%|██████████| 284/284 [00:55<00:00,  5.13it/s]\n",
      "100%|██████████| 284/284 [00:55<00:00,  5.13it/s]\n",
      "100%|██████████| 284/284 [00:55<00:00,  5.12it/s]\n",
      "100%|██████████| 284/284 [00:55<00:00,  5.12it/s]\n",
      "100%|██████████| 284/284 [00:55<00:00,  5.12it/s]\n",
      "100%|██████████| 284/284 [00:55<00:00,  5.11it/s]\n",
      "100%|██████████| 284/284 [00:55<00:00,  5.11it/s]\n",
      "100%|██████████| 284/284 [00:55<00:00,  5.11it/s]\n",
      "100%|██████████| 284/284 [00:55<00:00,  5.10it/s]\n",
      "100%|██████████| 284/284 [00:55<00:00,  5.10it/s]\n",
      "100%|██████████| 284/284 [00:55<00:00,  5.10it/s]\n",
      "100%|██████████| 284/284 [00:55<00:00,  5.09it/s]\n",
      "100%|██████████| 284/284 [00:55<00:00,  5.09it/s]\n"
     ]
    }
   ],
   "source": [
    "pwd = validation_pwd\n",
    "names = validation\n",
    "\n",
    "num = len(names)//CPU_NUM\n",
    "data = [names[i*num:(i+1)*num] for i in range(CPU_NUM+1)]\n",
    "partial_mp_func = partial(mp_func,img_pwd=img_pwd,label_pwd=label_pwd,copy_to_pwd=pwd)\n",
    "with mp.Pool(processes=CPU_NUM) as pool:\n",
    "    pool.map(partial_mp_func,data)\n"
   ]
  }
 ],
 "metadata": {
  "kernelspec": {
   "display_name": "Python 3",
   "language": "python",
   "name": "python3"
  },
  "language_info": {
   "codemirror_mode": {
    "name": "ipython",
    "version": 3
   },
   "file_extension": ".py",
   "mimetype": "text/x-python",
   "name": "python",
   "nbconvert_exporter": "python",
   "pygments_lexer": "ipython3",
   "version": "3.6.9"
  }
 },
 "nbformat": 4,
 "nbformat_minor": 5
}
